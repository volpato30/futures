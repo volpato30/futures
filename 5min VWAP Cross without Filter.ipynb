{
 "cells": [
  {
   "cell_type": "code",
   "execution_count": 2,
   "metadata": {
    "collapsed": true
   },
   "outputs": [],
   "source": [
    "%matplotlib inline\n",
    "from sys import path\n",
    "path.append('/home/rui/blacksid/mew-p')\n",
    "DATA_PATH = '/home/rui/blacksid/data/dockfuture'\n",
    "import numpy as np\n",
    "import pytz\n",
    "from datetime import datetime\n",
    "from datetime import timedelta\n",
    "import cProfile\n",
    "import matplotlib.pyplot as plt\n",
    "from mewp.data.item import Contract\n",
    "from mewp.simulate.wrapper import TrendAlgoWrapper\n",
    "from mewp.simulate.runner import SingleRunner\n",
    "import pandas as pd\n",
    "from mewp.util.clock import Clock\n",
    "from mewp.util.candle import Candle\n",
    "from mewp.util.candle import CandleCreator\n",
    "from mewp.util.candle import CandleAnalysis"
   ]
  },
  {
   "cell_type": "code",
   "execution_count": 3,
   "metadata": {
    "collapsed": false
   },
   "outputs": [
    {
     "data": {
      "text/plain": [
       "5"
      ]
     },
     "execution_count": 3,
     "metadata": {},
     "output_type": "execute_result"
    }
   ],
   "source": [
    "contract = Contract('zn')\n",
    "contract.units"
   ]
  },
  {
   "cell_type": "code",
   "execution_count": 4,
   "metadata": {
    "collapsed": false
   },
   "outputs": [],
   "source": [
    "def make_candle(product):\n",
    "    data = pd.read_csv('/home/rui/blacksid/data/adjusted_5min/{}0.csv'.format(product.upper()))\n",
    "    candles = []\n",
    "    mins_5 = timedelta(seconds= 5*60)\n",
    "    contract = Contract(product)\n",
    "    units = contract.units\n",
    "    for row in data.iterrows():\n",
    "        if row[1].TotalVolumeTraded < 0.1:\n",
    "            continue\n",
    "        time2 = datetime.strptime(row[1].datetime, '%Y-%m-%d %H:%M:%S')\n",
    "        time1 = time2 - mins_5\n",
    "        start_time = int((time1 - datetime(1970, 1, 1)).total_seconds() * 1000)\n",
    "        end_time = int((time2 - datetime(1970, 1, 1)).total_seconds() * 1000)\n",
    "        adjust = row[1].adjust\n",
    "        day_info = {}\n",
    "        day_info['HighPrice'] = row[1].HighPx + adjust\n",
    "        day_info['LowPrice'] = row[1].LowPx + adjust\n",
    "        day_info['OpenPrice'] = row[1].OpeningPx + adjust\n",
    "        day_info['ClosePrice'] = row[1].ClosingPx + adjust\n",
    "        day_info['Volume'] = row[1].TotalVolumeTraded\n",
    "        day_info['SettlePrice'] = row[1].TotalTurnover/row[1].TotalVolumeTraded/units + adjust   # vwap\n",
    "        day_info['Position'] = 0\n",
    "        day_info['LastPosition'] = 0\n",
    "        temp_candle = Candle(day_info, start_time, end_time)\n",
    "        candles.append(temp_candle)\n",
    "    return candles"
   ]
  },
  {
   "cell_type": "code",
   "execution_count": 5,
   "metadata": {
    "collapsed": false
   },
   "outputs": [],
   "source": [
    "class AlgoBase(object):\n",
    "    def __init__(self, product):\n",
    "        self.contract = Contract(product)\n",
    "        self.pos = 0\n",
    "        self.cash = 0\n",
    "        self._pre_day = None\n",
    "        self._pre_pnl = 0\n",
    "        self.daily_checkpoint = {'day':[], 'pnl':[]}\n",
    "        self.pnl_history = []\n",
    "    \n",
    "    def _long(self, qty, price):\n",
    "        self.pos += qty\n",
    "        self.cash -= qty * price * self.contract.units\n",
    "        self.cash -= qty * price * self.contract.units * self.contract.fee_peramount\n",
    "        self.cash -= qty * self.contract.fee_perhand        \n",
    "    \n",
    "    def _short(self, qty, price):\n",
    "        self.pos -= qty\n",
    "        self.cash += qty * price * self.contract.units\n",
    "        self.cash -= qty * price * self.contract.units * self.contract.fee_peramount\n",
    "        self.cash -= qty * self.contract.fee_perhand\n",
    "    \n",
    "    def _order_to(self, qty, price):\n",
    "        if qty == self.pos:\n",
    "            return\n",
    "        elif qty>self.pos:\n",
    "            self._long(qty-self.pos, price)\n",
    "        else:\n",
    "            self._short(self.pos - qty, price)\n",
    "            \n",
    "    def on_candle(self, candle, next_open_price):\n",
    "        pass\n",
    "    \n",
    "    def pnl_checkpoint(self, pnl, date_time):\n",
    "        if self._pre_day == None:\n",
    "            self.daily_checkpoint['day'].append(date_time.date().strftime(\"%Y-%m-%d\"))\n",
    "            self.daily_checkpoint['pnl'].append(pnl)\n",
    "            self._pre_day = date_time.date()\n",
    "            self._pre_pnl = pnl\n",
    "        elif date_time.date() == self._pre_day:\n",
    "            return\n",
    "        else:\n",
    "            self.daily_checkpoint['day'].append(date_time.date().strftime(\"%Y-%m-%d\"))\n",
    "            self.daily_checkpoint['pnl'].append(pnl-self._pre_pnl)\n",
    "            self._pre_day = date_time.date()\n",
    "            self._pre_pnl = pnl"
   ]
  },
  {
   "cell_type": "code",
   "execution_count": 6,
   "metadata": {
    "collapsed": true
   },
   "outputs": [],
   "source": [
    "class ATR(object):\n",
    "    ## Constructor\n",
    "    # @param alpha for ema\n",
    "    def __init__(self, alpha):\n",
    "        self.alpha = alpha\n",
    "        # computed\n",
    "        self.mean = 0\n",
    "        \n",
    "    ## add a new observation, and refresh\n",
    "    def add(self, observe):\n",
    "        if (self.mean == 0):\n",
    "            self.mean = observe\n",
    "        else:\n",
    "            self.mean = self.mean + self.alpha * (observe - self.mean)\n",
    "\n",
    "class MACross(AlgoBase):\n",
    "    def __init__(self, product, param):\n",
    "        super(MACross, self).__init__(product)\n",
    "        self.pre_close_price = []\n",
    "        self.pre_vwap = []\n",
    "        self.param = param\n",
    "        self.atr = ATR(self.param['alpha'])\n",
    "        self.trade_day_list = []\n",
    "        self.window = max(self.param['ma2'], self.param['filter2'])\n",
    "        self.pre_cross = None\n",
    "        self.pre_high = None\n",
    "        self.pre_low = None\n",
    "        \n",
    "    \n",
    "    # def buy_filter(self):\n",
    "    #     if np.mean(self.pre_vwap[-self.param['filter1']:]) >\\\n",
    "    #         np.mean(self.pre_vwap[-self.param['filter2']:]):\n",
    "    #         return True\n",
    "    #     else:\n",
    "    #         return False\n",
    "    # \n",
    "    # def sell_filter(self):\n",
    "    #     if np.mean(self.pre_vwap[-self.param['filter1']:]) <\\\n",
    "    #         np.mean(self.pre_vwap[-self.param['filter2']:]):\n",
    "    #         return True\n",
    "    #     else:\n",
    "    #         return False\n",
    "    \n",
    "    def buy_filter(self):\n",
    "        return True\n",
    "    def sell_filter(self):\n",
    "        return True\n",
    "    \n",
    "    def on_candle(self, candle):\n",
    "        date_time = datetime.fromtimestamp(candle.start_time/1000)\n",
    "        self.pre_close_price.append(candle.close_price)\n",
    "        self.pre_vwap.append(candle.vwap)\n",
    "        if len(self.pre_close_price) > 1:\n",
    "            TR = max(self.pre_close_price[-2], candle.high) - min(self.pre_close_price[-2], candle.low)\n",
    "            self.atr.add(TR)\n",
    "        if len(self.pre_close_price) < self.window:\n",
    "            self.pnl_history.append(0)\n",
    "            return\n",
    "        if len(self.pre_close_price) > self.window:\n",
    "            self.pre_close_price.pop(0)\n",
    "            self.pre_vwap.pop(0)\n",
    "            \n",
    "        if self.pre_cross == None:\n",
    "            if np.mean(self.pre_vwap[-self.param['ma1']:]) >\\\n",
    "                np.mean(self.pre_vwap[-self.param['ma2']:]):\n",
    "                self.pre_cross = 1\n",
    "            else:\n",
    "                self.pre_cross = -1\n",
    "            self.pnl_history.append(0)\n",
    "            return\n",
    "        if np.mean(self.pre_vwap[-self.param['ma1']:]) >\\\n",
    "                np.mean(self.pre_vwap[-self.param['ma2']:]):\n",
    "            cross = 1\n",
    "        else:\n",
    "            cross = -1\n",
    "\n",
    "        if cross == 1 and self.pre_cross == -1 and self.buy_filter():\n",
    "                self._order_to(self.param['hands'], candle.close_price)\n",
    "                self.pre_high = candle.close_price\n",
    "        elif cross == -1 and self.pre_cross == 1 and self.sell_filter():\n",
    "                self._order_to(-self.param['hands'], candle.close_price)\n",
    "                self.pre_low = candle.close_price\n",
    "        # stop_loss \n",
    "        if self.pos > 0:\n",
    "            assert(self.pre_high!=None)\n",
    "            if candle.close_price > self.pre_high:\n",
    "                self.pre_high = candle.close_price\n",
    "            diff = self.pre_high - candle.close_price\n",
    "            assert(diff>=-1e-6)\n",
    "            if diff > self.param['atr_stop_loss'] * self.atr.mean:\n",
    "                self._order_to(0, candle.close_price)\n",
    "                self.pre_high = None\n",
    "            \n",
    "        if self.pos < 0:\n",
    "            assert(self.pre_low!=None)\n",
    "            if candle.close_price < self.pre_low:\n",
    "                self.pre_low = candle.close_price\n",
    "            diff = candle.close_price - self.pre_low\n",
    "            assert(diff>=-1e-6)\n",
    "            if diff > self.param['atr_stop_loss'] * self.atr.mean:\n",
    "                self._order_to(0, candle.close_price)\n",
    "                self.pre_low = None\n",
    "        self.pre_cross = cross\n",
    "        pnl = self.pos * candle.close_price * self.contract.units + self.cash\n",
    "        self.pnl_history.append(pnl)\n",
    "        self.pnl_checkpoint(pnl, date_time)"
   ]
  },
  {
   "cell_type": "code",
   "execution_count": 9,
   "metadata": {
    "collapsed": true
   },
   "outputs": [],
   "source": [
    "def back_test(product, param):\n",
    "    candles = make_candle(product)\n",
    "    Account = MACross(product,param)\n",
    "    for i in range(len(candles)-1):\n",
    "        Account.on_candle(candles[i])\n",
    "    print 'total pnl: {}'.format(Account.pnl_history[-1])\n",
    "    plt.plot(Account.pnl_history)\n",
    "    return (Account.daily_checkpoint, Account.atr.mean)"
   ]
  },
  {
   "cell_type": "code",
   "execution_count": 10,
   "metadata": {
    "collapsed": true
   },
   "outputs": [],
   "source": [
    "param = {'ma1':10, 'ma2':100, 'filter1':50, 'filter2':100, 'atr_stop_loss': 10, 'alpha': 0.07, 'hands': 1}"
   ]
  },
  {
   "cell_type": "code",
   "execution_count": 11,
   "metadata": {
    "collapsed": true
   },
   "outputs": [],
   "source": [
    "product_list = ['au','cu','i','m','cs','rb','j','ru']\n",
    "result = {}"
   ]
  },
  {
   "cell_type": "code",
   "execution_count": 12,
   "metadata": {
    "collapsed": false
   },
   "outputs": [
    {
     "name": "stdout",
     "output_type": "stream",
     "text": [
      "total pnl: 305390.0\n",
      "total pnl: 126371.5225\n",
      "total pnl: 51349.26\n",
      "total pnl: 12077.5\n",
      "total pnl: 9412.5\n",
      "total pnl: 42864.30451\n",
      "total pnl: 182938.148\n",
      "total pnl: 317643.184642\n"
     ]
    },
    {
     "data": {
      "image/png": "[encoded data removed]",
      "text/plain": [
       "<matplotlib.figure.Figure at 0x7f7f69459f50>"
      ]
     },
     "metadata": {},
     "output_type": "display_data"
    }
   ],
   "source": [
    "for product in product_list:\n",
    "    daily_result, atr = back_test(product, param)\n",
    "    result[product] = (daily_result,atr)"
   ]
  },
  {
   "cell_type": "code",
   "execution_count": 13,
   "metadata": {
    "collapsed": false
   },
   "outputs": [
    {
     "name": "stdout",
     "output_type": "stream",
     "text": [
      "ru days: 1604\n",
      "i days: 693\n",
      "j days: 1299\n",
      "m days: 1607\n",
      "au days: 1605\n",
      "rb days: 1580\n",
      "cs days: 404\n",
      "cu days: 1605\n"
     ]
    }
   ],
   "source": [
    "for key in result.keys():\n",
    "    print '{} days: {}'.format(key,len(result[key][0]['day']))"
   ]
  },
  {
   "cell_type": "code",
   "execution_count": 14,
   "metadata": {
    "collapsed": false
   },
   "outputs": [],
   "source": [
    "df = None\n",
    "for key in result.keys():\n",
    "    temp = pd.DataFrame(data = result[key][0]['pnl'], index = result[key][0]['day'])\n",
    "    temp.columns = [key]\n",
    "    df = pd.concat([df, temp], axis = 1)"
   ]
  },
  {
   "cell_type": "code",
   "execution_count": 15,
   "metadata": {
    "collapsed": false,
    "scrolled": true
   },
   "outputs": [],
   "source": [
    "pnl_matrix = df.fillna(value=0).as_matrix()"
   ]
  },
  {
   "cell_type": "code",
   "execution_count": 16,
   "metadata": {
    "collapsed": false
   },
   "outputs": [
    {
     "data": {
      "text/plain": [
       "Index([u'ru', u'i', u'j', u'm', u'au', u'rb', u'cs', u'cu'], dtype='object')"
      ]
     },
     "execution_count": 16,
     "metadata": {},
     "output_type": "execute_result"
    }
   ],
   "source": [
    "df.columns"
   ]
  },
  {
   "cell_type": "code",
   "execution_count": 17,
   "metadata": {
    "collapsed": false,
    "scrolled": true
   },
   "outputs": [
    {
     "data": {
      "text/plain": [
       "array([[ 1.00,  0.04,  0.22,  0.12,  0.12,  0.23, -0.02,  0.37],\n",
       "       [ 0.04,  1.00,  0.21, -0.01, -0.02,  0.19, -0.02,  0.06],\n",
       "       [ 0.22,  0.21,  1.00,  0.03,  0.06,  0.28,  0.04,  0.14],\n",
       "       [ 0.12, -0.01,  0.03,  1.00,  0.00,  0.03, -0.00,  0.06],\n",
       "       [ 0.12, -0.02,  0.06,  0.00,  1.00,  0.05,  0.00,  0.19],\n",
       "       [ 0.23,  0.19,  0.28,  0.03,  0.05,  1.00, -0.03,  0.23],\n",
       "       [-0.02, -0.02,  0.04, -0.00,  0.00, -0.03,  1.00, -0.01],\n",
       "       [ 0.37,  0.06,  0.14,  0.06,  0.19,  0.23, -0.01,  1.00]])"
      ]
     },
     "execution_count": 17,
     "metadata": {},
     "output_type": "execute_result"
    }
   ],
   "source": [
    "np.set_printoptions(formatter={'float': '{: 0.2f}'.format})\n",
    "np.corrcoef(pnl_matrix.transpose())"
   ]
  },
  {
   "cell_type": "code",
   "execution_count": 18,
   "metadata": {
    "collapsed": false
   },
   "outputs": [],
   "source": [
    "np.set_printoptions(precision=3)\n",
    "ratio = np.zeros(8)\n",
    "i = 0\n",
    "for symbol in result.keys():\n",
    "    contract = Contract(symbol)\n",
    "    ratio[i] = 1/(result[symbol][1] * contract.units)\n",
    "    i+=1"
   ]
  },
  {
   "cell_type": "code",
   "execution_count": 19,
   "metadata": {
    "collapsed": false
   },
   "outputs": [
    {
     "data": {
      "text/plain": [
       "['ru', 'i', 'j', 'm', 'au', 'rb', 'cs', 'cu']"
      ]
     },
     "execution_count": 19,
     "metadata": {},
     "output_type": "execute_result"
    }
   ],
   "source": [
    "result.keys()"
   ]
  },
  {
   "cell_type": "code",
   "execution_count": 20,
   "metadata": {
    "collapsed": false
   },
   "outputs": [
    {
     "data": {
      "text/plain": [
       "array([  3.098e+00,   9.677e+00,   4.113e+00,   3.065e+01,   1.073e+01,\n",
       "         3.724e+03,   5.281e+01,   1.057e+01])"
      ]
     },
     "execution_count": 20,
     "metadata": {},
     "output_type": "execute_result"
    }
   ],
   "source": [
    "ratio * 2000"
   ]
  },
  {
   "cell_type": "markdown",
   "metadata": {},
   "source": [
    "# portfolio: \n",
    "\n",
    "ru: 3\n",
    "    \n",
    "i: 10\n",
    "\n",
    "j: 4\n",
    "    \n",
    "m: 30\n",
    "    \n",
    "au: 10\n",
    "    \n",
    "rb: 200\n",
    "    \n",
    "cs: 50\n",
    "    \n",
    "cu 10\n",
    "\n",
    "total capital: 14,000,000"
   ]
  },
  {
   "cell_type": "code",
   "execution_count": 21,
   "metadata": {
    "collapsed": true
   },
   "outputs": [],
   "source": [
    "ratio = [3,10,4,30,10,200,50,10]"
   ]
  },
  {
   "cell_type": "code",
   "execution_count": 22,
   "metadata": {
    "collapsed": false
   },
   "outputs": [],
   "source": [
    "pnl = np.sum(pnl_matrix * np.asarray(ratio),1)"
   ]
  },
  {
   "cell_type": "code",
   "execution_count": 23,
   "metadata": {
    "collapsed": false,
    "scrolled": true
   },
   "outputs": [
    {
     "data": {
      "text/plain": [
       "[<matplotlib.lines.Line2D at 0x7f7f665ae650>]"
      ]
     },
     "execution_count": 23,
     "metadata": {},
     "output_type": "execute_result"
    },
    {
     "data": {
      "image/png": "[encoded data removed]",
      "text/plain": [
       "<matplotlib.figure.Figure at 0x7f7f67a95f10>"
      ]
     },
     "metadata": {},
     "output_type": "display_data"
    }
   ],
   "source": [
    "plt.plot(np.cumsum(pnl))"
   ]
  },
  {
   "cell_type": "code",
   "execution_count": 27,
   "metadata": {
    "collapsed": true
   },
   "outputs": [],
   "source": [
    "def annualised_sharpe(returns, N=252):\n",
    "    return np.sqrt(N) * returns.mean() / returns.std()"
   ]
  },
  {
   "cell_type": "code",
   "execution_count": 28,
   "metadata": {
    "collapsed": false
   },
   "outputs": [
    {
     "data": {
      "text/plain": [
       "1.5816486650012571"
      ]
     },
     "execution_count": 28,
     "metadata": {},
     "output_type": "execute_result"
    }
   ],
   "source": [
    "annualised_sharpe(pnl)"
   ]
  },
  {
   "cell_type": "code",
   "execution_count": 29,
   "metadata": {
    "collapsed": false
   },
   "outputs": [
    {
     "data": {
      "text/plain": [
       "15910481.4909245"
      ]
     },
     "execution_count": 29,
     "metadata": {},
     "output_type": "execute_result"
    }
   ],
   "source": [
    "sum(pnl)"
   ]
  },
  {
   "cell_type": "code",
   "execution_count": 34,
   "metadata": {
    "collapsed": false
   },
   "outputs": [
    {
     "data": {
      "text/plain": [
       "0.12003705819738623"
      ]
     },
     "execution_count": 34,
     "metadata": {},
     "output_type": "execute_result"
    }
   ],
   "source": [
    "np.log(16/14.0+1)/(1600/252.0)"
   ]
  },
  {
   "cell_type": "code",
   "execution_count": null,
   "metadata": {
    "collapsed": true
   },
   "outputs": [],
   "source": []
  }
 ],
 "metadata": {
  "kernelspec": {
   "display_name": "Python 2",
   "language": "python",
   "name": "python2"
  },
  "language_info": {
   "codemirror_mode": {
    "name": "ipython",
    "version": 2
   },
   "file_extension": ".py",
   "mimetype": "text/x-python",
   "name": "python",
   "nbconvert_exporter": "python",
   "pygments_lexer": "ipython2",
   "version": "2.7.12"
  }
 },
 "nbformat": 4,
 "nbformat_minor": 1
}
